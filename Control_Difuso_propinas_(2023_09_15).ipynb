{
  "nbformat": 4,
  "nbformat_minor": 0,
  "metadata": {
    "colab": {
      "provenance": [],
      "authorship_tag": "ABX9TyPzqvnnIsTpn5kzkbf6Dvor",
      "include_colab_link": true
    },
    "kernelspec": {
      "name": "python3",
      "display_name": "Python 3"
    },
    "language_info": {
      "name": "python"
    }
  },
  "cells": [
    {
      "cell_type": "markdown",
      "metadata": {
        "id": "view-in-github",
        "colab_type": "text"
      },
      "source": [
        "<a href=\"https://colab.research.google.com/github/raulsulla/foto1/blob/main/Control_Difuso_propinas_(2023_09_15).ipynb\" target=\"_parent\"><img src=\"https://colab.research.google.com/assets/colab-badge.svg\" alt=\"Open In Colab\"/></a>"
      ]
    },
    {
      "cell_type": "markdown",
      "source": [
        "instalacion de la libreria \"scikit-fuzzy\""
      ],
      "metadata": {
        "id": "gzmttLZhNrco"
      }
    },
    {
      "cell_type": "code",
      "source": [
        "pip install -U scikit-fuzzy"
      ],
      "metadata": {
        "id": "R-4ecWOiVpUT"
      },
      "execution_count": null,
      "outputs": []
    },
    {
      "cell_type": "markdown",
      "source": [
        "importando las libreria a usar"
      ],
      "metadata": {
        "id": "5rWfertqNy_Q"
      }
    },
    {
      "cell_type": "code",
      "execution_count": 2,
      "metadata": {
        "id": "pcNHRpc0QkmE"
      },
      "outputs": [],
      "source": [
        "import numpy as np\n",
        "\n",
        "import skfuzzy  as fuzz\n",
        "\n",
        "from skfuzzy import control as ctrl"
      ]
    },
    {
      "cell_type": "code",
      "source": [
        "# New Antecedent/Consequent objects hold universe variables and membership\n",
        "# functions\n",
        "quality = ctrl.Antecedent(np.arange(0, 11, 1), 'quality')\n",
        "service = ctrl.Antecedent(np.arange(0, 11, 1), 'service')\n",
        "tip = ctrl.Consequent(np.arange(0, 26, 1), 'tip')\n",
        "\n",
        "# Auto-membership function population is possible with .automf(3, 5, or 7)\n",
        "quality.automf(3)\n",
        "service.automf(3)\n",
        "\n",
        "# Custom membership functions can be built interactively with a familiar,\n",
        "# Pythonic API\n",
        "tip['low'] = fuzz.trimf(tip.universe, [0, 0, 13])\n",
        "tip['medium'] = fuzz.trimf(tip.universe, [0, 13, 25])\n",
        "tip['high'] = fuzz.trimf(tip.universe, [13, 25, 25])"
      ],
      "metadata": {
        "id": "HliSn36YV8LC"
      },
      "execution_count": 3,
      "outputs": []
    },
    {
      "cell_type": "code",
      "source": [
        "# You can see how these look with .view()\n",
        "quality['average'].view()"
      ],
      "metadata": {
        "id": "L5XbzgSwWC7L"
      },
      "execution_count": null,
      "outputs": []
    },
    {
      "cell_type": "code",
      "source": [
        "service.view()"
      ],
      "metadata": {
        "id": "TbmnJyQmXoJ7"
      },
      "execution_count": null,
      "outputs": []
    },
    {
      "cell_type": "code",
      "source": [
        "tip.view()"
      ],
      "metadata": {
        "id": "Pe_J3487XqZR"
      },
      "execution_count": null,
      "outputs": []
    },
    {
      "cell_type": "markdown",
      "source": [
        "**Reglas difusas¶**\n",
        "\n",
        "Ahora, para que estos triángulos sean útiles, definimos la relación difusa entre las variables de entrada y salida. Para los propósitos de nuestro ejemplo, considere tres reglas simples:\n",
        "1.\tSi la comida es pobre O el servicio es deficiente, entonces la propina será baja\n",
        "2.\tSi el servicio es promedio, entonces la propina será media\n",
        "3.\tSi la comida es buena O el servicio es bueno, entonces la propina será alta.\n",
        "La mayoría de la gente estaría de acuerdo con estas reglas, pero las reglas son difusas. Mapear las reglas imprecisas en una sugerencia definida y procesable es un desafío. Este es el tipo de tarea en la que sobresale la lógica difusa\n"
      ],
      "metadata": {
        "id": "LfpLt0-kYDe0"
      }
    },
    {
      "cell_type": "code",
      "source": [
        "rule1 = ctrl.Rule(quality['poor'] | service['poor'], tip['low'])\n",
        "rule2 = ctrl.Rule(service['average'], tip['medium'])\n",
        "rule3 = ctrl.Rule(service['good'] | quality['good'], tip['high'])\n",
        "\n",
        "rule1.view()"
      ],
      "metadata": {
        "id": "qtpXa942WNyw"
      },
      "execution_count": null,
      "outputs": []
    },
    {
      "cell_type": "markdown",
      "source": [
        "**Creación y simulación de sistemas de control**¶\n",
        "\n",
        "\n",
        "Ahora que tenemos nuestras reglas definidas, simplemente podemos crear un sistema de control a través de:\n"
      ],
      "metadata": {
        "id": "ece3FfeqY9ZL"
      }
    },
    {
      "cell_type": "code",
      "source": [
        "tipping_ctrl = ctrl.ControlSystem([rule1, rule2, rule3])"
      ],
      "metadata": {
        "id": "JmmswcmUWUkK"
      },
      "execution_count": 8,
      "outputs": []
    },
    {
      "cell_type": "markdown",
      "source": [
        "In order to simulate this control system, we will create a ControlSystemSimulation.\n",
        "\n",
        "Think of this object representing our controller applied to a specific set of cirucmstances.\n",
        "\n",
        "For tipping, this might be tipping Sharon at the local brew-pub.\n",
        "\n",
        "We would create another ControlSystemSimulation when we’re trying to apply our tipping_ctrl for Travis at the cafe because the inputs would be different."
      ],
      "metadata": {
        "id": "-EKZkpe_ZJh8"
      }
    },
    {
      "cell_type": "code",
      "source": [
        "tipping = ctrl.ControlSystemSimulation(tipping_ctrl)"
      ],
      "metadata": {
        "id": "APrkYpGJWY2h"
      },
      "execution_count": 9,
      "outputs": []
    },
    {
      "cell_type": "markdown",
      "source": [
        "Ahora podemos simular nuestro sistema de control simplemente especificando las entradas y llamando al método de cómputo. Supongamos que calificamos la calidad con 6.5 sobre 10 y el servicio con 9.8 de 10."
      ],
      "metadata": {
        "id": "QifysYH7ZsKR"
      }
    },
    {
      "cell_type": "code",
      "source": [
        "# Pass inputs to the ControlSystem using Antecedent labels with Pythonic API\n",
        "# Note: if you like passing many inputs all at once, use .inputs(dict_of_data)\n",
        "tipping.input['quality'] = 6.5\n",
        "tipping.input['service'] = 9.8\n",
        "\n",
        "# Crunch the numbers\n",
        "tipping.compute()"
      ],
      "metadata": {
        "id": "4r0KAzaNWc-Q"
      },
      "execution_count": 10,
      "outputs": []
    },
    {
      "cell_type": "markdown",
      "source": [
        "Una vez calculado, podemos ver el resultado y visualizarlo"
      ],
      "metadata": {
        "id": "f3jOa9rDZfZB"
      }
    },
    {
      "cell_type": "code",
      "source": [
        "print tipping.output['tip']\n",
        "tip.view(sim=tipping)"
      ],
      "metadata": {
        "id": "XBUfV6ltWiIr",
        "colab": {
          "base_uri": "https://localhost:8080/",
          "height": 140
        },
        "outputId": "a12e4876-66c7-4c5d-d175-f939f75ef31e"
      },
      "execution_count": 11,
      "outputs": [
        {
          "output_type": "error",
          "ename": "SyntaxError",
          "evalue": "ignored",
          "traceback": [
            "\u001b[0;36m  File \u001b[0;32m\"<ipython-input-11-f40f4d6cd3c0>\"\u001b[0;36m, line \u001b[0;32m1\u001b[0m\n\u001b[0;31m    print tipping.output['tip']\u001b[0m\n\u001b[0m    ^\u001b[0m\n\u001b[0;31mSyntaxError\u001b[0m\u001b[0;31m:\u001b[0m Missing parentheses in call to 'print'. Did you mean print(...)?\n"
          ]
        }
      ]
    }
  ]
}